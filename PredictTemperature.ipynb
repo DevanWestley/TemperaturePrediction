{
  "nbformat": 4,
  "nbformat_minor": 0,
  "metadata": {
    "colab": {
      "provenance": [],
      "include_colab_link": true
    },
    "kernelspec": {
      "name": "python3",
      "display_name": "Python 3"
    },
    "language_info": {
      "name": "python"
    }
  },
  "cells": [
    {
      "cell_type": "markdown",
      "metadata": {
        "id": "view-in-github",
        "colab_type": "text"
      },
      "source": [
        "<a href=\"https://colab.research.google.com/github/DevanWestley/TemperaturePrediction/blob/main/PredictTemperature.ipynb\" target=\"_parent\"><img src=\"https://colab.research.google.com/assets/colab-badge.svg\" alt=\"Open In Colab\"/></a>"
      ]
    },
    {
      "cell_type": "markdown",
      "source": [
        "# Project UTS AI - **Predicting World Temperature Shifts Based on Sea Level Trends with Multiple Linear Regression**\n"
      ],
      "metadata": {
        "id": "C9dDIU5qpies"
      }
    },
    {
      "cell_type": "markdown",
      "source": [
        "## Anggota Kelompok"
      ],
      "metadata": {
        "id": "TSXPTS-dp_yc"
      }
    },
    {
      "cell_type": "markdown",
      "source": [
        "Devan Westley - 23/522479/TK/57681\n",
        "\n",
        "Ega Baskara Nugroho - 23/521518/TK/57532"
      ],
      "metadata": {
        "id": "Rpuu4j-dqM48"
      }
    },
    {
      "cell_type": "markdown",
      "source": [
        "## Introduction"
      ],
      "metadata": {
        "id": "ktLlwOg1qGWU"
      }
    },
    {
      "cell_type": "markdown",
      "source": [
        "**WO**: “World Ocean.” This column represents a global measure of sea surface heat content.\n",
        "\n",
        "\n",
        "**WOse**: The “se” suffix typically stands for “standard error.” Thus, WOse would be the estimated standard error or uncertainty associated with the WO measurement.\n",
        "\n",
        "**NH**: “Northern Hemisphere.” In this context, it represent sea surface heat content for the northern half of the globe.\n",
        "\n",
        "**NHse**: Similarly, this column would be the standard error or uncertainty estimate for the Northern Hemisphere measurement.\n",
        "\n",
        "**SH**: “Southern Hemisphere,” providing the corresponding measurement for that region.\n",
        "\n",
        "\n",
        "**SHse**: This column would then be the standard error for the Southern Hemisphere measurement."
      ],
      "metadata": {
        "id": "fgFdrK7iqUZz"
      }
    },
    {
      "cell_type": "markdown",
      "source": [
        "## Library"
      ],
      "metadata": {
        "id": "Tce5AbUVpdUc"
      }
    },
    {
      "cell_type": "code",
      "source": [
        "import pandas as pd\n",
        "import numpy as np\n",
        "import matplotlib.pyplot as plt\n",
        "import seaborn as sns"
      ],
      "metadata": {
        "id": "f08Hg6TwpgyO"
      },
      "execution_count": null,
      "outputs": []
    },
    {
      "cell_type": "markdown",
      "source": [
        "## Predefine Library"
      ],
      "metadata": {
        "id": "HqY-J_5yr-DF"
      }
    },
    {
      "cell_type": "code",
      "source": [
        "#About Dataset\n",
        "def _plot_series(series, series_name, series_index=0):\n",
        "  palette = list(sns.palettes.mpl_palette('Dark2'))\n",
        "  xs = series['Year']\n",
        "  ys = series['No_Smoothing']\n",
        "  plt.plot(xs, ys, label=series_name, color=palette[series_index % len(palette)])\n",
        "\n",
        "def _plot_series(df, column, ax):\n",
        "    ax.plot(df['Year'], df[column], label=column)\n",
        "\n",
        "#Multiple Linear Regression\n",
        "def normal_equation(A, b):\n",
        "    \"\"\"\n",
        "    Computes coefficient (x) with normal equation:\n",
        "    x = (A^T A)^{-1} A^T b\n",
        "    \"\"\"\n",
        "    A_tA = A.T @ A\n",
        "    A_tb = A.T @ b\n",
        "    A_tA_inv = np.linalg.inv(A_tA)\n",
        "    x = A_tA_inv @ A_tb\n",
        "    return x\n",
        "\n",
        "#Metrics\n",
        "def mse(y_true, y_pred):\n",
        "    return np.mean((y_true - y_pred)**2)\n",
        "\n",
        "def r2_score(y_true, y_pred):\n",
        "    \"\"\"\n",
        "    Computes the R² (coefficient of determination).\n",
        "    R² = 1 - (SS_res / SS_tot)\n",
        "    \"\"\"\n",
        "    ss_res = np.sum((y_true - y_pred)**2)\n",
        "    ss_tot = np.sum((y_true - np.mean(y_true))**2)\n",
        "    return 1 - (ss_res / ss_tot)\n",
        "\n",
        "#K-Fold Validation\\\n",
        "def k_fold_cross_validation(A, b, k=5):\n",
        "    n = A.shape[0]\n",
        "    indices = np.arange(n)\n",
        "    np.random.shuffle(indices)  # RNG\n",
        "\n",
        "    fold_size = n // k\n",
        "    results = []\n",
        "\n",
        "    for i in range(k):\n",
        "        start = i * fold_size\n",
        "        end = start + fold_size if i < k - 1 else n\n",
        "\n",
        "        val_indices = indices[start:end]\n",
        "        train_indices = np.concatenate((indices[:start], indices[end:]))\n",
        "\n",
        "        # Split into training and validation sets\n",
        "        A_train = A[train_indices]\n",
        "        b_train = b[train_indices]\n",
        "        A_val = A[val_indices]\n",
        "        b_val = b[val_indices]\n",
        "\n",
        "        coeffs = normal_equation(A_train, b_train)\n",
        "        b_pred = A_val @ coeffs\n",
        "\n",
        "        fold_mse = mse(b_val, b_pred)\n",
        "        fold_r2 = r2_score(b_val, b_pred)\n",
        "\n",
        "        results.append((fold_mse, fold_r2))\n",
        "    return results"
      ],
      "metadata": {
        "id": "s2hzcg6kr9m7"
      },
      "execution_count": null,
      "outputs": []
    },
    {
      "cell_type": "markdown",
      "source": [
        "## About Dataset"
      ],
      "metadata": {
        "id": "DyV6pmoGrTY-"
      }
    },
    {
      "cell_type": "code",
      "source": [
        "df = pd.read_csv(\"SeaVSTemp.csv\")\n",
        "df.head()"
      ],
      "metadata": {
        "colab": {
          "base_uri": "https://localhost:8080/",
          "height": 206
        },
        "id": "zIsgbJZuphDA",
        "outputId": "f8f224ce-9544-4007-d227-0663f35db829"
      },
      "execution_count": null,
      "outputs": [
        {
          "output_type": "execute_result",
          "data": {
            "text/plain": [
              "   Year  No_Smoothing  Lowess(5)     WO   WOse     NH   NHse     SH   SHse\n",
              "0  1957          0.05      -0.04 -9.303  2.025 -3.149  0.925 -6.153  1.100\n",
              "1  1958          0.06      -0.01 -8.059  2.017 -2.321  0.851 -5.738  1.166\n",
              "2  1959          0.03       0.01 -8.713  2.036 -2.505  0.824 -6.208  1.212\n",
              "3  1960         -0.03       0.03 -5.479  1.893 -1.587  0.746 -3.892  1.148\n",
              "4  1961          0.06       0.01 -4.762  1.773 -1.936  0.711 -2.826  1.061"
            ],
            "text/html": [
              "\n",
              "  <div id=\"df-3df2e217-2b4a-43af-bbca-0880211c52fe\" class=\"colab-df-container\">\n",
              "    <div>\n",
              "<style scoped>\n",
              "    .dataframe tbody tr th:only-of-type {\n",
              "        vertical-align: middle;\n",
              "    }\n",
              "\n",
              "    .dataframe tbody tr th {\n",
              "        vertical-align: top;\n",
              "    }\n",
              "\n",
              "    .dataframe thead th {\n",
              "        text-align: right;\n",
              "    }\n",
              "</style>\n",
              "<table border=\"1\" class=\"dataframe\">\n",
              "  <thead>\n",
              "    <tr style=\"text-align: right;\">\n",
              "      <th></th>\n",
              "      <th>Year</th>\n",
              "      <th>No_Smoothing</th>\n",
              "      <th>Lowess(5)</th>\n",
              "      <th>WO</th>\n",
              "      <th>WOse</th>\n",
              "      <th>NH</th>\n",
              "      <th>NHse</th>\n",
              "      <th>SH</th>\n",
              "      <th>SHse</th>\n",
              "    </tr>\n",
              "  </thead>\n",
              "  <tbody>\n",
              "    <tr>\n",
              "      <th>0</th>\n",
              "      <td>1957</td>\n",
              "      <td>0.05</td>\n",
              "      <td>-0.04</td>\n",
              "      <td>-9.303</td>\n",
              "      <td>2.025</td>\n",
              "      <td>-3.149</td>\n",
              "      <td>0.925</td>\n",
              "      <td>-6.153</td>\n",
              "      <td>1.100</td>\n",
              "    </tr>\n",
              "    <tr>\n",
              "      <th>1</th>\n",
              "      <td>1958</td>\n",
              "      <td>0.06</td>\n",
              "      <td>-0.01</td>\n",
              "      <td>-8.059</td>\n",
              "      <td>2.017</td>\n",
              "      <td>-2.321</td>\n",
              "      <td>0.851</td>\n",
              "      <td>-5.738</td>\n",
              "      <td>1.166</td>\n",
              "    </tr>\n",
              "    <tr>\n",
              "      <th>2</th>\n",
              "      <td>1959</td>\n",
              "      <td>0.03</td>\n",
              "      <td>0.01</td>\n",
              "      <td>-8.713</td>\n",
              "      <td>2.036</td>\n",
              "      <td>-2.505</td>\n",
              "      <td>0.824</td>\n",
              "      <td>-6.208</td>\n",
              "      <td>1.212</td>\n",
              "    </tr>\n",
              "    <tr>\n",
              "      <th>3</th>\n",
              "      <td>1960</td>\n",
              "      <td>-0.03</td>\n",
              "      <td>0.03</td>\n",
              "      <td>-5.479</td>\n",
              "      <td>1.893</td>\n",
              "      <td>-1.587</td>\n",
              "      <td>0.746</td>\n",
              "      <td>-3.892</td>\n",
              "      <td>1.148</td>\n",
              "    </tr>\n",
              "    <tr>\n",
              "      <th>4</th>\n",
              "      <td>1961</td>\n",
              "      <td>0.06</td>\n",
              "      <td>0.01</td>\n",
              "      <td>-4.762</td>\n",
              "      <td>1.773</td>\n",
              "      <td>-1.936</td>\n",
              "      <td>0.711</td>\n",
              "      <td>-2.826</td>\n",
              "      <td>1.061</td>\n",
              "    </tr>\n",
              "  </tbody>\n",
              "</table>\n",
              "</div>\n",
              "    <div class=\"colab-df-buttons\">\n",
              "\n",
              "  <div class=\"colab-df-container\">\n",
              "    <button class=\"colab-df-convert\" onclick=\"convertToInteractive('df-3df2e217-2b4a-43af-bbca-0880211c52fe')\"\n",
              "            title=\"Convert this dataframe to an interactive table.\"\n",
              "            style=\"display:none;\">\n",
              "\n",
              "  <svg xmlns=\"http://www.w3.org/2000/svg\" height=\"24px\" viewBox=\"0 -960 960 960\">\n",
              "    <path d=\"M120-120v-720h720v720H120Zm60-500h600v-160H180v160Zm220 220h160v-160H400v160Zm0 220h160v-160H400v160ZM180-400h160v-160H180v160Zm440 0h160v-160H620v160ZM180-180h160v-160H180v160Zm440 0h160v-160H620v160Z\"/>\n",
              "  </svg>\n",
              "    </button>\n",
              "\n",
              "  <style>\n",
              "    .colab-df-container {\n",
              "      display:flex;\n",
              "      gap: 12px;\n",
              "    }\n",
              "\n",
              "    .colab-df-convert {\n",
              "      background-color: #E8F0FE;\n",
              "      border: none;\n",
              "      border-radius: 50%;\n",
              "      cursor: pointer;\n",
              "      display: none;\n",
              "      fill: #1967D2;\n",
              "      height: 32px;\n",
              "      padding: 0 0 0 0;\n",
              "      width: 32px;\n",
              "    }\n",
              "\n",
              "    .colab-df-convert:hover {\n",
              "      background-color: #E2EBFA;\n",
              "      box-shadow: 0px 1px 2px rgba(60, 64, 67, 0.3), 0px 1px 3px 1px rgba(60, 64, 67, 0.15);\n",
              "      fill: #174EA6;\n",
              "    }\n",
              "\n",
              "    .colab-df-buttons div {\n",
              "      margin-bottom: 4px;\n",
              "    }\n",
              "\n",
              "    [theme=dark] .colab-df-convert {\n",
              "      background-color: #3B4455;\n",
              "      fill: #D2E3FC;\n",
              "    }\n",
              "\n",
              "    [theme=dark] .colab-df-convert:hover {\n",
              "      background-color: #434B5C;\n",
              "      box-shadow: 0px 1px 3px 1px rgba(0, 0, 0, 0.15);\n",
              "      filter: drop-shadow(0px 1px 2px rgba(0, 0, 0, 0.3));\n",
              "      fill: #FFFFFF;\n",
              "    }\n",
              "  </style>\n",
              "\n",
              "    <script>\n",
              "      const buttonEl =\n",
              "        document.querySelector('#df-3df2e217-2b4a-43af-bbca-0880211c52fe button.colab-df-convert');\n",
              "      buttonEl.style.display =\n",
              "        google.colab.kernel.accessAllowed ? 'block' : 'none';\n",
              "\n",
              "      async function convertToInteractive(key) {\n",
              "        const element = document.querySelector('#df-3df2e217-2b4a-43af-bbca-0880211c52fe');\n",
              "        const dataTable =\n",
              "          await google.colab.kernel.invokeFunction('convertToInteractive',\n",
              "                                                    [key], {});\n",
              "        if (!dataTable) return;\n",
              "\n",
              "        const docLinkHtml = 'Like what you see? Visit the ' +\n",
              "          '<a target=\"_blank\" href=https://colab.research.google.com/notebooks/data_table.ipynb>data table notebook</a>'\n",
              "          + ' to learn more about interactive tables.';\n",
              "        element.innerHTML = '';\n",
              "        dataTable['output_type'] = 'display_data';\n",
              "        await google.colab.output.renderOutput(dataTable, element);\n",
              "        const docLink = document.createElement('div');\n",
              "        docLink.innerHTML = docLinkHtml;\n",
              "        element.appendChild(docLink);\n",
              "      }\n",
              "    </script>\n",
              "  </div>\n",
              "\n",
              "\n",
              "<div id=\"df-6d259445-88f1-40e7-8312-c4c0f2fc4449\">\n",
              "  <button class=\"colab-df-quickchart\" onclick=\"quickchart('df-6d259445-88f1-40e7-8312-c4c0f2fc4449')\"\n",
              "            title=\"Suggest charts\"\n",
              "            style=\"display:none;\">\n",
              "\n",
              "<svg xmlns=\"http://www.w3.org/2000/svg\" height=\"24px\"viewBox=\"0 0 24 24\"\n",
              "     width=\"24px\">\n",
              "    <g>\n",
              "        <path d=\"M19 3H5c-1.1 0-2 .9-2 2v14c0 1.1.9 2 2 2h14c1.1 0 2-.9 2-2V5c0-1.1-.9-2-2-2zM9 17H7v-7h2v7zm4 0h-2V7h2v10zm4 0h-2v-4h2v4z\"/>\n",
              "    </g>\n",
              "</svg>\n",
              "  </button>\n",
              "\n",
              "<style>\n",
              "  .colab-df-quickchart {\n",
              "      --bg-color: #E8F0FE;\n",
              "      --fill-color: #1967D2;\n",
              "      --hover-bg-color: #E2EBFA;\n",
              "      --hover-fill-color: #174EA6;\n",
              "      --disabled-fill-color: #AAA;\n",
              "      --disabled-bg-color: #DDD;\n",
              "  }\n",
              "\n",
              "  [theme=dark] .colab-df-quickchart {\n",
              "      --bg-color: #3B4455;\n",
              "      --fill-color: #D2E3FC;\n",
              "      --hover-bg-color: #434B5C;\n",
              "      --hover-fill-color: #FFFFFF;\n",
              "      --disabled-bg-color: #3B4455;\n",
              "      --disabled-fill-color: #666;\n",
              "  }\n",
              "\n",
              "  .colab-df-quickchart {\n",
              "    background-color: var(--bg-color);\n",
              "    border: none;\n",
              "    border-radius: 50%;\n",
              "    cursor: pointer;\n",
              "    display: none;\n",
              "    fill: var(--fill-color);\n",
              "    height: 32px;\n",
              "    padding: 0;\n",
              "    width: 32px;\n",
              "  }\n",
              "\n",
              "  .colab-df-quickchart:hover {\n",
              "    background-color: var(--hover-bg-color);\n",
              "    box-shadow: 0 1px 2px rgba(60, 64, 67, 0.3), 0 1px 3px 1px rgba(60, 64, 67, 0.15);\n",
              "    fill: var(--button-hover-fill-color);\n",
              "  }\n",
              "\n",
              "  .colab-df-quickchart-complete:disabled,\n",
              "  .colab-df-quickchart-complete:disabled:hover {\n",
              "    background-color: var(--disabled-bg-color);\n",
              "    fill: var(--disabled-fill-color);\n",
              "    box-shadow: none;\n",
              "  }\n",
              "\n",
              "  .colab-df-spinner {\n",
              "    border: 2px solid var(--fill-color);\n",
              "    border-color: transparent;\n",
              "    border-bottom-color: var(--fill-color);\n",
              "    animation:\n",
              "      spin 1s steps(1) infinite;\n",
              "  }\n",
              "\n",
              "  @keyframes spin {\n",
              "    0% {\n",
              "      border-color: transparent;\n",
              "      border-bottom-color: var(--fill-color);\n",
              "      border-left-color: var(--fill-color);\n",
              "    }\n",
              "    20% {\n",
              "      border-color: transparent;\n",
              "      border-left-color: var(--fill-color);\n",
              "      border-top-color: var(--fill-color);\n",
              "    }\n",
              "    30% {\n",
              "      border-color: transparent;\n",
              "      border-left-color: var(--fill-color);\n",
              "      border-top-color: var(--fill-color);\n",
              "      border-right-color: var(--fill-color);\n",
              "    }\n",
              "    40% {\n",
              "      border-color: transparent;\n",
              "      border-right-color: var(--fill-color);\n",
              "      border-top-color: var(--fill-color);\n",
              "    }\n",
              "    60% {\n",
              "      border-color: transparent;\n",
              "      border-right-color: var(--fill-color);\n",
              "    }\n",
              "    80% {\n",
              "      border-color: transparent;\n",
              "      border-right-color: var(--fill-color);\n",
              "      border-bottom-color: var(--fill-color);\n",
              "    }\n",
              "    90% {\n",
              "      border-color: transparent;\n",
              "      border-bottom-color: var(--fill-color);\n",
              "    }\n",
              "  }\n",
              "</style>\n",
              "\n",
              "  <script>\n",
              "    async function quickchart(key) {\n",
              "      const quickchartButtonEl =\n",
              "        document.querySelector('#' + key + ' button');\n",
              "      quickchartButtonEl.disabled = true;  // To prevent multiple clicks.\n",
              "      quickchartButtonEl.classList.add('colab-df-spinner');\n",
              "      try {\n",
              "        const charts = await google.colab.kernel.invokeFunction(\n",
              "            'suggestCharts', [key], {});\n",
              "      } catch (error) {\n",
              "        console.error('Error during call to suggestCharts:', error);\n",
              "      }\n",
              "      quickchartButtonEl.classList.remove('colab-df-spinner');\n",
              "      quickchartButtonEl.classList.add('colab-df-quickchart-complete');\n",
              "    }\n",
              "    (() => {\n",
              "      let quickchartButtonEl =\n",
              "        document.querySelector('#df-6d259445-88f1-40e7-8312-c4c0f2fc4449 button');\n",
              "      quickchartButtonEl.style.display =\n",
              "        google.colab.kernel.accessAllowed ? 'block' : 'none';\n",
              "    })();\n",
              "  </script>\n",
              "</div>\n",
              "\n",
              "    </div>\n",
              "  </div>\n"
            ],
            "application/vnd.google.colaboratory.intrinsic+json": {
              "type": "dataframe",
              "variable_name": "df",
              "summary": "{\n  \"name\": \"df\",\n  \"rows\": 66,\n  \"fields\": [\n    {\n      \"column\": \"Year\",\n      \"properties\": {\n        \"dtype\": \"number\",\n        \"std\": 19,\n        \"min\": 1957,\n        \"max\": 2022,\n        \"num_unique_values\": 66,\n        \"samples\": [\n          2011,\n          2019,\n          1957\n        ],\n        \"semantic_type\": \"\",\n        \"description\": \"\"\n      }\n    },\n    {\n      \"column\": \"No_Smoothing\",\n      \"properties\": {\n        \"dtype\": \"number\",\n        \"std\": 0.33031876954010575,\n        \"min\": -0.2,\n        \"max\": 1.01,\n        \"num_unique_values\": 47,\n        \"samples\": [\n          0.33,\n          0.65,\n          0.23\n        ],\n        \"semantic_type\": \"\",\n        \"description\": \"\"\n      }\n    },\n    {\n      \"column\": \"Lowess(5)\",\n      \"properties\": {\n        \"dtype\": \"number\",\n        \"std\": 0.3301670129044639,\n        \"min\": -0.06,\n        \"max\": 1.08,\n        \"num_unique_values\": 48,\n        \"samples\": [\n          0.5,\n          0.83,\n          0.47\n        ],\n        \"semantic_type\": \"\",\n        \"description\": \"\"\n      }\n    },\n    {\n      \"column\": \"WO\",\n      \"properties\": {\n        \"dtype\": \"number\",\n        \"std\": 10.527440993939875,\n        \"min\": -9.303,\n        \"max\": 27.939,\n        \"num_unique_values\": 66,\n        \"samples\": [\n          16.681,\n          24.442,\n          -9.303\n        ],\n        \"semantic_type\": \"\",\n        \"description\": \"\"\n      }\n    },\n    {\n      \"column\": \"WOse\",\n      \"properties\": {\n        \"dtype\": \"number\",\n        \"std\": 0.5808855126338398,\n        \"min\": 0.179,\n        \"max\": 2.036,\n        \"num_unique_values\": 65,\n        \"samples\": [\n          0.248,\n          0.211,\n          2.025\n        ],\n        \"semantic_type\": \"\",\n        \"description\": \"\"\n      }\n    },\n    {\n      \"column\": \"NH\",\n      \"properties\": {\n        \"dtype\": \"number\",\n        \"std\": 4.771676880679689,\n        \"min\": -3.718,\n        \"max\": 12.849,\n        \"num_unique_values\": 66,\n        \"samples\": [\n          7.768,\n          11.444,\n          -3.149\n        ],\n        \"semantic_type\": \"\",\n        \"description\": \"\"\n      }\n    },\n    {\n      \"column\": \"NHse\",\n      \"properties\": {\n        \"dtype\": \"number\",\n        \"std\": 0.21082205844346627,\n        \"min\": 0.079,\n        \"max\": 0.925,\n        \"num_unique_values\": 59,\n        \"samples\": [\n          0.925,\n          0.645,\n          0.163\n        ],\n        \"semantic_type\": \"\",\n        \"description\": \"\"\n      }\n    },\n    {\n      \"column\": \"SH\",\n      \"properties\": {\n        \"dtype\": \"number\",\n        \"std\": 5.840662487569906,\n        \"min\": -6.315,\n        \"max\": 15.09,\n        \"num_unique_values\": 66,\n        \"samples\": [\n          8.913,\n          12.999,\n          -6.153\n        ],\n        \"semantic_type\": \"\",\n        \"description\": \"\"\n      }\n    },\n    {\n      \"column\": \"SHse\",\n      \"properties\": {\n        \"dtype\": \"number\",\n        \"std\": 0.39343533217806026,\n        \"min\": 0.094,\n        \"max\": 1.212,\n        \"num_unique_values\": 65,\n        \"samples\": [\n          0.131,\n          0.125,\n          1.1\n        ],\n        \"semantic_type\": \"\",\n        \"description\": \"\"\n      }\n    }\n  ]\n}"
            }
          },
          "metadata": {},
          "execution_count": 29
        }
      ]
    },
    {
      "cell_type": "code",
      "source": [
        "print(\"DataFrame shape (rows, columns):\", df.shape)"
      ],
      "metadata": {
        "colab": {
          "base_uri": "https://localhost:8080/"
        },
        "id": "IvEDChhCtP2I",
        "outputId": "19235ae2-b114-4e45-b722-cc17ac3ea25a"
      },
      "execution_count": null,
      "outputs": [
        {
          "output_type": "stream",
          "name": "stdout",
          "text": [
            "DataFrame shape (rows, columns): (66, 9)\n"
          ]
        }
      ]
    },
    {
      "cell_type": "code",
      "source": [
        "y_columns = ['WO', 'WOse', 'NH', 'NHse', 'SH', 'SHse']\n",
        "\n",
        "fig, ax = plt.subplots(figsize=(10, 5.2), layout='constrained')\n",
        "df_sorted = df.sort_values('Year', ascending=True)\n",
        "\n",
        "# Plot all series on the same axes\n",
        "for y in y_columns:\n",
        "    _plot_series(df_sorted, y, ax)\n",
        "\n",
        "sns.despine(fig=fig, ax=ax)\n",
        "plt.xlabel('Year')\n",
        "plt.ylabel('No_Smoothing')\n",
        "plt.legend()  # Show the legend to differentiate the lines\n",
        "plt.show()"
      ],
      "metadata": {
        "colab": {
          "base_uri": "https://localhost:8080/",
          "height": 522
        },
        "id": "yfxy266KpheG",
        "outputId": "88940a02-3cb6-4829-99a0-5d4d7a428e74"
      },
      "execution_count": null,
      "outputs": [
        {
          "output_type": "display_data",
          "data": {
            "text/plain": [
              "<Figure size 1000x520 with 1 Axes>"
            ],
            "image/png": "[encoded data removed]"
          },
          "metadata": {}
        }
      ]
    },
    {
      "cell_type": "markdown",
      "source": [
        "## Multiple Linear Regression"
      ],
      "metadata": {
        "id": "5_uLNUZDt04I"
      }
    },
    {
      "cell_type": "code",
      "source": [
        "A = df[[\"WO\", \"WOse\", \"NH\", \"NHse\", \"SH\", \"SHse\"]].values\n",
        "b = df[\"No_Smoothing\"].values\n",
        "\n",
        "ones = np.ones((A.shape[0], 1))\n",
        "oneA = np.hstack((ones, A))  # Augmented with 1s"
      ],
      "metadata": {
        "id": "Bt6_bSc2t8DK"
      },
      "execution_count": null,
      "outputs": []
    },
    {
      "cell_type": "code",
      "source": [
        "coefficients = normal_equation(oneA, b)\n",
        "equation_str = \"Temperature = {:.4f} + {:.4f}*WO + {:.4f}*WOse + {:.4f}*NH + {:.4f}*NHse + {:.4f}*SH + {:.4f}*SHse\".format(\n",
        "coefficients[0], coefficients[1], coefficients[2], coefficients[3], coefficients[4], coefficients[5], coefficients[6])\n",
        "\n",
        "print(\"u:\")\n",
        "print(coefficients)\n",
        "print(equation_str)"
      ],
      "metadata": {
        "colab": {
          "base_uri": "https://localhost:8080/"
        },
        "id": "ldKBEM2hu1x5",
        "outputId": "9277f2af-ce2f-43b7-aed6-7435350bfce4"
      },
      "execution_count": null,
      "outputs": [
        {
          "output_type": "stream",
          "name": "stdout",
          "text": [
            "u:\n",
            "[  0.35411021  13.84449359  22.72851528 -13.79293373 -22.71061389\n",
            " -13.84648567 -22.95305053]\n",
            "Temperature = 0.3541 + 13.8445*WO + 22.7285*WOse + -13.7929*NH + -22.7106*NHse + -13.8465*SH + -22.9531*SHse\n"
          ]
        }
      ]
    },
    {
      "cell_type": "markdown",
      "source": [
        "## Metrics"
      ],
      "metadata": {
        "id": "H6tqTCnvt96E"
      }
    },
    {
      "source": [
        "y_pred = oneA @ coefficients\n",
        "\n",
        "mse_value = mse(b, y_pred)\n",
        "r2_value = r2_score(b, y_pred)\n",
        "\n",
        "print(f\"MSE: {mse_value:.6f}\")\n",
        "print(f\"Accuracy (R²): {r2_value*100:.2f}%\")"
      ],
      "cell_type": "code",
      "metadata": {
        "colab": {
          "base_uri": "https://localhost:8080/"
        },
        "id": "FVaTLYbC9Kj-",
        "outputId": "e61bfb5f-6c66-422b-826e-78cad2f763d3"
      },
      "execution_count": null,
      "outputs": [
        {
          "output_type": "stream",
          "name": "stdout",
          "text": [
            "MSE: 0.008397\n",
            "Accuracy (R²): 92.19%\n"
          ]
        }
      ]
    },
    {
      "cell_type": "markdown",
      "source": [
        "## K-Fold"
      ],
      "metadata": {
        "id": "gMIpEXHtt-Se"
      }
    },
    {
      "cell_type": "markdown",
      "source": [
        "Remember the curse of dimentionality, this also determine the success of k-vold validation\n",
        "\n",
        "In this case, total data is 66, ceil(20%total data) =13"
      ],
      "metadata": {
        "id": "uoxZ-XluBR5z"
      }
    },
    {
      "cell_type": "markdown",
      "source": [
        "### If k <= 13"
      ],
      "metadata": {
        "id": "lUL_HpJtBflB"
      }
    },
    {
      "cell_type": "code",
      "source": [
        "k = 5\n",
        "cv_results = k_fold_cross_validation(A, b, k=k)\n",
        "\n",
        "mse_scores = [res[0] for res in cv_results]\n",
        "r2_scores = [res[1] for res in cv_results]\n",
        "\n",
        "for i, (m, r2) in enumerate(cv_results):\n",
        "    print(f\"Fold {i+1}: MSE = {m:.4f}, Accuracy (R²) = {r2*100:.2f}%\")\n",
        "\n",
        "print(\"-----\")\n",
        "\n",
        "# Average MSE across folds\n",
        "avg_mse = np.mean(mse_scores)\n",
        "print(f\"Average MSE across {k} folds:\", avg_mse)\n",
        "\n",
        "# Average \"accuracy\" (R²) across folds\n",
        "avg_r2 = np.mean(r2_scores)\n",
        "print(f\"Average Accuracy (R²) across {k} folds: {avg_r2*100:.2f}%\")"
      ],
      "metadata": {
        "id": "7z84khOk765p",
        "colab": {
          "base_uri": "https://localhost:8080/"
        },
        "outputId": "152d92eb-768e-4c8d-a7e5-6b2b971774cc"
      },
      "execution_count": null,
      "outputs": [
        {
          "output_type": "stream",
          "name": "stdout",
          "text": [
            "Fold 1: MSE = 0.0096, Accuracy (R²) = 87.73%\n",
            "Fold 2: MSE = 0.0209, Accuracy (R²) = 80.61%\n",
            "Fold 3: MSE = 0.0094, Accuracy (R²) = 86.90%\n",
            "Fold 4: MSE = 0.0124, Accuracy (R²) = 83.19%\n",
            "Fold 5: MSE = 0.0159, Accuracy (R²) = 90.15%\n",
            "-----\n",
            "Average MSE across 5 folds: 0.013651577910219061\n",
            "Average Accuracy (R²) across 5 folds: 85.72%\n"
          ]
        }
      ]
    },
    {
      "cell_type": "markdown",
      "source": [
        "As we can see it seems that we get normal MSE and Accuracy if we set k is < 20% of its total data"
      ],
      "metadata": {
        "id": "m988wPlWB_iQ"
      }
    },
    {
      "cell_type": "markdown",
      "source": [
        "### If k > 13"
      ],
      "metadata": {
        "id": "pKDjfmRJBp8o"
      }
    },
    {
      "cell_type": "code",
      "source": [
        "k = 25\n",
        "cv_results = k_fold_cross_validation(A, b, k=k)\n",
        "\n",
        "mse_scores = [res[0] for res in cv_results]\n",
        "r2_scores = [res[1] for res in cv_results]\n",
        "\n",
        "for i, (m, r2) in enumerate(cv_results):\n",
        "    print(f\"Fold {i+1}: MSE = {m:.4f}, Accuracy (R²) = {r2*100:.2f}%\")\n",
        "\n",
        "print(\"-----\")\n",
        "\n",
        "# Average MSE across folds\n",
        "avg_mse = np.mean(mse_scores)\n",
        "print(f\"Average MSE across {k} folds:\", avg_mse)\n",
        "\n",
        "# Average \"accuracy\" (R²) across folds\n",
        "avg_r2 = np.mean(r2_scores)\n",
        "print(f\"Average Accuracy (R²) across {k} folds: {avg_r2*100:.2f}%\")"
      ],
      "metadata": {
        "colab": {
          "base_uri": "https://localhost:8080/"
        },
        "id": "YN986yoLBnLy",
        "outputId": "080519ff-8a06-43ba-bb67-3a67f93d5ebd"
      },
      "execution_count": null,
      "outputs": [
        {
          "output_type": "stream",
          "name": "stdout",
          "text": [
            "Fold 1: MSE = 0.0182, Accuracy (R²) = -1039.93%\n",
            "Fold 2: MSE = 0.0054, Accuracy (R²) = -5264.99%\n",
            "Fold 3: MSE = 0.0019, Accuracy (R²) = 98.42%\n",
            "Fold 4: MSE = 0.0259, Accuracy (R²) = -95.76%\n",
            "Fold 5: MSE = 0.0168, Accuracy (R²) = -4110.58%\n",
            "Fold 6: MSE = 0.0050, Accuracy (R²) = 95.45%\n",
            "Fold 7: MSE = 0.0044, Accuracy (R²) = 80.58%\n",
            "Fold 8: MSE = 0.0049, Accuracy (R²) = 80.97%\n",
            "Fold 9: MSE = 0.0399, Accuracy (R²) = 9.45%\n",
            "Fold 10: MSE = 0.0061, Accuracy (R²) = 57.67%\n",
            "Fold 11: MSE = 0.0308, Accuracy (R²) = 63.36%\n",
            "Fold 12: MSE = 0.0127, Accuracy (R²) = 18.43%\n",
            "Fold 13: MSE = 0.0003, Accuracy (R²) = -39.69%\n",
            "Fold 14: MSE = 0.0067, Accuracy (R²) = 96.74%\n",
            "Fold 15: MSE = 0.0078, Accuracy (R²) = -213.49%\n",
            "Fold 16: MSE = 0.0020, Accuracy (R²) = 98.18%\n",
            "Fold 17: MSE = 0.0096, Accuracy (R²) = 95.56%\n",
            "Fold 18: MSE = 0.0004, Accuracy (R²) = 99.01%\n",
            "Fold 19: MSE = 0.0040, Accuracy (R²) = 74.63%\n",
            "Fold 20: MSE = 0.0015, Accuracy (R²) = -142.66%\n",
            "Fold 21: MSE = 0.0006, Accuracy (R²) = -162.26%\n",
            "Fold 22: MSE = 0.0377, Accuracy (R²) = -141.37%\n",
            "Fold 23: MSE = 0.0081, Accuracy (R²) = -406.76%\n",
            "Fold 24: MSE = 0.0074, Accuracy (R²) = 88.18%\n",
            "Fold 25: MSE = 0.0171, Accuracy (R²) = 84.60%\n",
            "-----\n",
            "Average MSE across 25 folds: 0.011010340799506085\n",
            "Average Accuracy (R²) across 25 folds: -419.05%\n"
          ]
        }
      ]
    },
    {
      "cell_type": "markdown",
      "source": [
        "However if we set k > 20% of its total data we might have some issues like this run when some of the fold have negative accuracy which lead to inncorect average accuracy"
      ],
      "metadata": {
        "id": "KcA7GnrqCaV3"
      }
    },
    {
      "cell_type": "markdown",
      "source": [
        "## Bonus Prediction"
      ],
      "metadata": {
        "id": "dIqMssBUuHZ6"
      }
    },
    {
      "cell_type": "code",
      "source": [
        "#Linear Regression\n",
        "predictors = [\"WO\", \"WOse\", \"NH\", \"NHse\", \"SH\", \"SHse\"]\n",
        "target = \"Year\"\n",
        "\n",
        "for predictor in predictors:\n",
        "    A = df[[predictor]].values\n",
        "    b = df[target].values\n",
        "\n",
        "    ones = np.ones((A.shape[0], 1))\n",
        "    A_aug = np.hstack((ones, A))\n",
        "\n",
        "    coef = normal_equation(A_aug, b)\n",
        "\n",
        "    y_pred = A_aug @ coef\n",
        "    error = mse(b, y_pred)\n",
        "    r2 = r2_score(b, y_pred)\n",
        "\n",
        "    print(f\"{target} = {coef[0]:.4f} + {coef[1]:.4f}*{predictor}\")\n",
        "    print(f\"MSE: {error:.6f}\")\n",
        "    print(f\"Accuracy (R²): {r2:.6f}\\n\")"
      ],
      "metadata": {
        "colab": {
          "base_uri": "https://localhost:8080/"
        },
        "id": "u12d2cqIxH9q",
        "outputId": "980f7b13-ea9f-4331-9cd1-81278d60e75d"
      },
      "execution_count": null,
      "outputs": [
        {
          "output_type": "stream",
          "name": "stdout",
          "text": [
            "Year = 1981.2028 + 1.7582*WO\n",
            "MSE: 25.506435\n",
            "Accuracy (R²): 0.929718\n",
            "\n",
            "Year = 2018.4080 + -32.2607*WOse\n",
            "MSE: 17.058051\n",
            "Accuracy (R²): 0.952997\n",
            "\n",
            "Year = 1979.4927 + 3.8790*NH\n",
            "MSE: 25.510119\n",
            "Accuracy (R²): 0.929708\n",
            "\n",
            "Year = 2011.6518 + -79.4663*NHse\n",
            "MSE: 86.498004\n",
            "Accuracy (R²): 0.761659\n",
            "\n",
            "Year = 1982.8191 + 3.1230*SH\n",
            "MSE: 35.247300\n",
            "Accuracy (R²): 0.902878\n",
            "\n",
            "Year = 2018.8201 + -47.5052*SHse\n",
            "MSE: 18.885193\n",
            "Accuracy (R²): 0.947963\n",
            "\n"
          ]
        }
      ]
    },
    {
      "cell_type": "markdown",
      "source": [
        "Because of the low accuracy for NHse we try to change from linear regression to quadratic regression."
      ],
      "metadata": {
        "id": "E2MSjycX42s7"
      }
    },
    {
      "cell_type": "code",
      "source": [
        "year = 2026\n",
        "\n",
        "# Model Coefficients\n",
        "models = {\n",
        "    'WO':     {'intercept': 1981.2028, 'coef': 1.7582},\n",
        "    'WOse':   {'intercept': 2018.4080, 'coef': -32.2607},\n",
        "    'NH':     {'intercept': 1979.4927, 'coef': 3.8790},\n",
        "    'NHse':   {'intercept': 2011.6518, 'coef': -79.4663},\n",
        "    'SH':     {'intercept': 1982.8191, 'coef': 3.1230},\n",
        "    'SHse':   {'intercept': 2018.8201, 'coef': -47.5052},\n",
        "}\n",
        "\n",
        "# Compute variable values\n",
        "v_values = [(year - m['intercept']) / m['coef'] for m in models.values()]\n",
        "v = np.array([1] + v_values).reshape(-1, 1)  # Column vector\n",
        "\n",
        "# Compute Temperature Shift\n",
        "uvT = -np.dot(coefficients, v)\n",
        "\n",
        "print(\"v (column vector):\\n\", v)\n",
        "print(\"u (row vector):\\n\", coefficients)\n",
        "print(\"Temperature Shift =\\n\", uvT)\n",
        "\n"
      ],
      "metadata": {
        "colab": {
          "base_uri": "https://localhost:8080/"
        },
        "id": "Bu7P2E9qxxwv",
        "outputId": "dc3f10e1-35a1-4d3d-e2fd-535bf89e3838"
      },
      "execution_count": null,
      "outputs": [
        {
          "output_type": "stream",
          "name": "stdout",
          "text": [
            "v (column vector):\n",
            " [[ 1.        ]\n",
            " [25.47901263]\n",
            " [-0.23533277]\n",
            " [11.98950761]\n",
            " [-0.18055704]\n",
            " [13.82673711]\n",
            " [-0.15113924]]\n",
            "u (row vector):\n",
            " [  0.35411021  13.84449359  22.72851528 -13.79293373 -22.71061389\n",
            " -13.84648567 -22.95305053]\n",
            "Temperature Shift =\n",
            " [1.50316052]\n"
          ]
        }
      ]
    },
    {
      "cell_type": "markdown",
      "source": [
        "So, the world temperature in 2026 will increase by 1.503 degree of Celcius from previous year."
      ],
      "metadata": {
        "id": "QHy9cg8m0krx"
      }
    }
  ]
}